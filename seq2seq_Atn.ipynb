{
  "nbformat": 4,
  "nbformat_minor": 0,
  "metadata": {
    "colab": {
      "provenance": [],
      "gpuType": "T4"
    },
    "kernelspec": {
      "name": "python3",
      "display_name": "Python 3"
    },
    "language_info": {
      "name": "python"
    },
    "accelerator": "GPU"
  },
  "cells": [
    {
      "cell_type": "code",
      "execution_count": 1,
      "metadata": {
        "id": "mboWKOB4eS5F"
      },
      "outputs": [],
      "source": [
        "# Importing Modules and Libraries\n",
        "import torch\n",
        "import torch.nn as nn\n",
        "import torch.optim as optim\n",
        "import random\n",
        "\n",
        "# Device configuration\n",
        "device = torch.device('cuda' if torch.cuda.is_available() else 'cpu')\n",
        "\n",
        "# Synthetic Data Generation\n",
        "def generate_data(num_samples, seq_len, vocab_size):\n",
        "    data = []\n",
        "    for _ in range(num_samples):\n",
        "        src = [random.randint(1, vocab_size-1) for _ in range(seq_len)]\n",
        "        tgt = src[::-1]  # Reverse the source sequence for the target\n",
        "        data.append((src, tgt))\n",
        "    return data\n",
        "\n",
        "vocab_size = 20\n",
        "seq_len = 10\n",
        "num_samples = 1000\n",
        "data = generate_data(num_samples, seq_len, vocab_size)\n",
        "\n",
        "vocab = {str(i): i for i in range(vocab_size)}\n",
        "\n",
        "# Data Loader\n",
        "from torch.utils.data import Dataset, DataLoader\n",
        "\n",
        "class Seq2SeqDataset(Dataset):\n",
        "    def __init__(self, data):\n",
        "        self.data = data\n",
        "\n",
        "    def __len__(self):\n",
        "        return len(self.data)\n",
        "\n",
        "    def __getitem__(self, idx):\n",
        "        src, tgt = self.data[idx]\n",
        "        return torch.tensor(src, dtype=torch.long), torch.tensor(tgt, dtype=torch.long)\n",
        "\n",
        "dataset = Seq2SeqDataset(data)\n",
        "dataloader = DataLoader(dataset, batch_size=32, shuffle=True)\n",
        "\n",
        "# SEQ_SEQ WITH ATTENTION ARCHITECTURE\n",
        "\n",
        "class  Attention(nn.Module):\n",
        "    def __init__(self, hidden_size):\n",
        "        super(Attention, self).__init__()\n",
        "        self.attn = nn.Linear(hidden_size * 2, hidden_size)\n",
        "        self.v = nn.Parameter(torch.rand(hidden_size))\n",
        "\n",
        "    def forward(self, hidden, encoder_outputs):\n",
        "        max_len = encoder_outputs.size(1)\n",
        "        H = hidden.repeat(max_len, 1, 1).transpose(0, 1)\n",
        "        attn_energies = self.score(H, encoder_outputs)\n",
        "        return torch.softmax(attn_energies, dim=1).unsqueeze(1)\n",
        "\n",
        "    def score(self, hidden, encoder_outputs):\n",
        "        energy = torch.tanh(self.attn(torch.cat([hidden, encoder_outputs], 2)))\n",
        "        energy = energy.transpose(1, 2)\n",
        "        v = self.v.repeat(encoder_outputs.size(0), 1).unsqueeze(1)\n",
        "        energy = torch.bmm(v, energy)\n",
        "        return energy.squeeze(1)\n",
        "\n",
        "class Encoder(nn.Module):\n",
        "    def __init__(self, input_size, embed_size, hidden_size, num_layers):\n",
        "        super(Encoder, self).__init__()\n",
        "        self.embedding = nn.Embedding(input_size, embed_size)\n",
        "        self.lstm = nn.LSTM(embed_size, hidden_size, num_layers, batch_first=True)\n",
        "\n",
        "    def forward(self, x):\n",
        "        embedding = self.embedding(x)\n",
        "        outputs, (hidden, cell) = self.lstm(embedding)\n",
        "        return outputs, hidden, cell\n",
        "\n",
        "class Decoder(nn.Module):\n",
        "    def __init__(self, output_size, embed_size, hidden_size, num_layers, attention):\n",
        "        super(Decoder, self).__init__()\n",
        "        self.output_size = output_size\n",
        "        self.attention = attention\n",
        "        self.embedding = nn.Embedding(output_size, embed_size)\n",
        "        self.lstm = nn.LSTM(hidden_size + embed_size, hidden_size, num_layers, batch_first=True)\n",
        "        self.fc = nn.Linear(hidden_size, output_size)\n",
        "\n",
        "    def forward(self, x, hidden, cell, encoder_outputs):\n",
        "        x = x.unsqueeze(1)\n",
        "        embedding = self.embedding(x)\n",
        "        attn_weights = self.attention(hidden[-1], encoder_outputs)\n",
        "        context = attn_weights.bmm(encoder_outputs)\n",
        "        rnn_input = torch.cat((embedding, context), dim=2)\n",
        "        outputs, (hidden, cell) = self.lstm(rnn_input, (hidden, cell))\n",
        "        predictions = self.fc(outputs.squeeze(1))\n",
        "        return predictions, hidden, cell\n",
        "\n",
        "class Seq2Seq(nn.Module):\n",
        "    def __init__(self, encoder, decoder):\n",
        "        super(Seq2Seq, self).__init__()\n",
        "        self.encoder = encoder\n",
        "        self.decoder = decoder\n",
        "\n",
        "    def forward(self, source, target, teacher_forcing_ratio=0.5):\n",
        "        batch_size = source.shape[0]\n",
        "        target_len = target.shape[1]\n",
        "        target_vocab_size = self.decoder.output_size\n",
        "\n",
        "        outputs = torch.zeros(batch_size, target_len, target_vocab_size).to(device)\n",
        "\n",
        "        encoder_outputs, hidden, cell = self.encoder(source)\n",
        "\n",
        "        x = target[:, 0]\n",
        "\n",
        "        for t in range(1, target_len):\n",
        "            output, hidden, cell = self.decoder(x, hidden, cell, encoder_outputs)\n",
        "            outputs[:, t, :] = output\n",
        "            best_guess = output.argmax(1)\n",
        "            x = target[:, t] if random.random() < teacher_forcing_ratio else best_guess\n",
        "\n",
        "        return outputs\n",
        "\n",
        "# Initialize the model\n",
        "input_size = vocab_size\n",
        "output_size = vocab_size\n",
        "embed_size = 256\n",
        "hidden_size = 512\n",
        "num_layers = 2\n",
        "\n",
        "attention = Attention(hidden_size)\n",
        "encoder = Encoder(input_size, embed_size, hidden_size, num_layers).to(device)\n",
        "decoder = Decoder(output_size, embed_size, hidden_size, num_layers, attention).to(device)\n",
        "model = Seq2Seq(encoder, decoder).to(device)\n",
        "\n",
        "# Loss and Optimizer\n",
        "criterion = nn.CrossEntropyLoss()\n",
        "optimizer = optim.Adam(model.parameters(), lr=0.001)"
      ]
    },
    {
      "cell_type": "code",
      "source": [
        "#Training model and Calculating Loss\n",
        "losses = []\n",
        "num_epochs = 10\n",
        "for epoch in range(num_epochs):\n",
        "    model.train()\n",
        "    running_loss = 0.0\n",
        "    for i, (src, tgt) in enumerate(dataloader):\n",
        "        src, tgt = src.to(device), tgt.to(device)\n",
        "\n",
        "        optimizer.zero_grad()\n",
        "        output = model(src, tgt)\n",
        "\n",
        "        output = output[:, 1:].reshape(-1, output.shape[2])\n",
        "        tgt = tgt[:, 1:].reshape(-1)\n",
        "\n",
        "        loss = criterion(output, tgt)\n",
        "        loss.backward()\n",
        "        optimizer.step()\n",
        "        running_loss += loss.item()\n",
        "    loss_1= running_loss / len(dataloader)\n",
        "    losses.append(loss_1)\n",
        "\n",
        "    print(f'Epoch [{epoch+1}/{num_epochs}], Loss: {loss.item():.4f}')\n"
      ],
      "metadata": {
        "colab": {
          "base_uri": "https://localhost:8080/"
        },
        "id": "OxSOpj1gNNij",
        "outputId": "79800250-a0f3-4a20-fbd1-2087c0cd37e4"
      },
      "execution_count": 2,
      "outputs": [
        {
          "output_type": "stream",
          "name": "stdout",
          "text": [
            "Epoch [1/10], Loss: 2.1011\n",
            "Epoch [2/10], Loss: 1.8614\n",
            "Epoch [3/10], Loss: 1.3375\n",
            "Epoch [4/10], Loss: 0.9002\n",
            "Epoch [5/10], Loss: 0.7937\n",
            "Epoch [6/10], Loss: 0.3453\n",
            "Epoch [7/10], Loss: 0.1008\n",
            "Epoch [8/10], Loss: 0.0205\n",
            "Epoch [9/10], Loss: 0.0225\n",
            "Epoch [10/10], Loss: 0.0192\n"
          ]
        }
      ]
    },
    {
      "cell_type": "code",
      "source": [
        "# Model Evaluation and its Metrics\n",
        "from sklearn.metrics import accuracy_score\n",
        "model.eval()\n",
        "with torch.no_grad():\n",
        "    for i, (src, tgt) in enumerate(dataloader):\n",
        "        src, tgt = src.to(device), tgt.to(device)\n",
        "\n",
        "        output = model(src, tgt, teacher_forcing_ratio=0)\n",
        "        output = output[:, 1:].reshape(-1, output.shape[2])\n",
        "        tgt = tgt[:, 1:].reshape(-1)\n",
        "\n",
        "        pred = output.argmax(1).view(-1, seq_len-1)\n",
        "        print(f'Source: {src[0].cpu().numpy()}')\n",
        "        print(f'Target: {tgt.view(-1, seq_len-1)[0].cpu().numpy()}')\n",
        "        print(f'Predicted: {pred[0].cpu().numpy()}')\n",
        "\n",
        "        preds = output.argmax(1).cpu().numpy()\n",
        "        trues = tgt.cpu().numpy()\n",
        "        break\n",
        "    accurcacy = accuracy_score(preds,trues)\n",
        "    print(f'\\n Accuracy: {accurcacy:.2f}%')\n",
        "\n",
        "\n"
      ],
      "metadata": {
        "colab": {
          "base_uri": "https://localhost:8080/"
        },
        "id": "Ly72igYCOY_v",
        "outputId": "d36e030c-34e4-4e3b-e56d-1caeafd6ca6f"
      },
      "execution_count": 3,
      "outputs": [
        {
          "output_type": "stream",
          "name": "stdout",
          "text": [
            "Source: [ 4 11 10 12 19  1 10  9 16  5]\n",
            "Target: [16  9 10  1 19 12 10 11  4]\n",
            "Predicted: [16  9 10  1 19 12 10 11  4]\n",
            "\n",
            " Accuracy: 0.98%\n"
          ]
        }
      ]
    },
    {
      "cell_type": "code",
      "source": [
        "#Plotting Loss Curve\n",
        "import matplotlib.pyplot as plt\n",
        "\n",
        "plt.figure()\n",
        "plt.plot(losses, label = 'Seq2Seq With Attention')\n",
        "plt.xlabel('Epochs')\n",
        "plt.ylabel('Loss')\n",
        "plt.title('Training Loss Curve')\n",
        "plt.legend()\n",
        "plt.show()\n"
      ],
      "metadata": {
        "colab": {
          "base_uri": "https://localhost:8080/",
          "height": 472
        },
        "id": "fdXWHTRr8_7q",
        "outputId": "61b38097-6410-44af-ffaf-51a998bcdba1"
      },
      "execution_count": 5,
      "outputs": [
        {
          "output_type": "display_data",
          "data": {
            "text/plain": [
              "<Figure size 640x480 with 1 Axes>"
            ],
            "image/png": "[encoded data removed]"
          },
          "metadata": {}
        }
      ]
    }
  ]
}